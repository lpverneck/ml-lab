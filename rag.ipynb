{
 "cells": [
  {
   "cell_type": "markdown",
   "id": "0684a137-d1f3-43f2-a6bf-0736f13b4db4",
   "metadata": {},
   "source": [
    "## Retrieval-Augmented Generation (RAG)"
   ]
  },
  {
   "cell_type": "code",
   "execution_count": 1,
   "id": "e461306c-a76a-4fcc-8e7d-3a26ff9e9c13",
   "metadata": {},
   "outputs": [],
   "source": [
    "import pandas as pd\n",
    "from typing import List\n",
    "from sklearn.feature_extraction.text import TfidfVectorizer\n",
    "from sklearn.metrics.pairwise import cosine_similarity"
   ]
  },
  {
   "cell_type": "markdown",
   "id": "1e3ff203-df87-4c38-b91a-5c6f9c0c84db",
   "metadata": {},
   "source": [
    "### 1. TF-IDF Based RAG System"
   ]
  },
  {
   "cell_type": "code",
   "execution_count": 2,
   "id": "fdc902e4-1ac4-4b79-a395-a6bc50b914e0",
   "metadata": {},
   "outputs": [],
   "source": [
    "corpus = [\n",
    "    \"the cat sat on the mat\",\n",
    "    \"the dog chased the cat\",\n",
    "    \"the cat and dog played together\",\n",
    "    \"the cat is sleeping\",\n",
    "    \"the dog barked loudly\",\n",
    "]"
   ]
  },
  {
   "cell_type": "code",
   "execution_count": 3,
   "id": "c713a6ba-d57b-4577-90ee-ccc2b9db1d0e",
   "metadata": {},
   "outputs": [],
   "source": [
    "vectorizer = TfidfVectorizer()\n",
    "vector_kb = vectorizer.fit_transform(corpus)"
   ]
  },
  {
   "cell_type": "code",
   "execution_count": 4,
   "id": "d21c0328-793f-4401-acb5-617b12c0b6ca",
   "metadata": {},
   "outputs": [],
   "source": [
    "def retrieve_documents(query: str, corpus: List[str], vectorizer, kb, top_n=3):\n",
    "    query_vector = vectorizer.transform([query])\n",
    "    cosine_similarities = cosine_similarity(query_vector, kb).flatten()\n",
    "    related_docs_indices = cosine_similarities.argsort()[-top_n:][::-1]\n",
    "    related_docs = [corpus[i] for i in related_docs_indices]\n",
    "    return related_docs"
   ]
  },
  {
   "cell_type": "code",
   "execution_count": 5,
   "id": "121f59b0-7d2a-4ce3-8920-01cfe6a1cd78",
   "metadata": {},
   "outputs": [],
   "source": [
    "query = \"the dog chased who ?\""
   ]
  },
  {
   "cell_type": "code",
   "execution_count": 6,
   "id": "b1e13daa-2451-4d12-80bd-5248ea05744f",
   "metadata": {},
   "outputs": [
    {
     "name": "stdout",
     "output_type": "stream",
     "text": [
      "['the dog chased the cat', 'the dog barked loudly', 'the cat and dog played together']\n"
     ]
    }
   ],
   "source": [
    "print(\n",
    "    retrieve_documents(\n",
    "        query,\n",
    "        corpus,\n",
    "        vectorizer,\n",
    "        kb=vector_kb,\n",
    "    )\n",
    ")"
   ]
  }
 ],
 "metadata": {
  "kernelspec": {
   "display_name": "Python 3 (ipykernel)",
   "language": "python",
   "name": "python3"
  },
  "language_info": {
   "codemirror_mode": {
    "name": "ipython",
    "version": 3
   },
   "file_extension": ".py",
   "mimetype": "text/x-python",
   "name": "python",
   "nbconvert_exporter": "python",
   "pygments_lexer": "ipython3",
   "version": "3.13.1"
  }
 },
 "nbformat": 4,
 "nbformat_minor": 5
}
