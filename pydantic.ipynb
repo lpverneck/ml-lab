{
 "cells": [
  {
   "cell_type": "markdown",
   "id": "66de7336",
   "metadata": {},
   "source": [
    "## Pydantic Basics"
   ]
  },
  {
   "cell_type": "markdown",
   "id": "c8cc083e",
   "metadata": {},
   "source": [
    "Pydantic is the most widely used data validation library for Python.\n",
    "\n",
    "Main features:\n",
    "\n",
    "- IDE Type Hints\n",
    "- Data Validation\n",
    "- JSON Serialization"
   ]
  },
  {
   "cell_type": "code",
   "execution_count": 1,
   "id": "f562ae44",
   "metadata": {},
   "outputs": [],
   "source": [
    "import os\n",
    "import json\n",
    "from pydantic import (\n",
    "    BaseModel,\n",
    "    EmailStr,\n",
    "    AnyUrl,\n",
    "    SecretStr,\n",
    "    field_validator,\n",
    "    field_serializer,\n",
    "    Field,\n",
    "    computed_field,\n",
    ")\n",
    "from pydantic_settings import BaseSettings, SettingsConfigDict\n",
    "from typing import List, Literal, Optional\n",
    "from datetime import date, datetime"
   ]
  },
  {
   "cell_type": "code",
   "execution_count": 2,
   "id": "7657f1f7",
   "metadata": {},
   "outputs": [],
   "source": [
    "class UserProfile(BaseModel):\n",
    "    username: str = Field(\n",
    "        description=\"Platform user name.\",\n",
    "        examples=[\"lucas\", \"matthew\"],\n",
    "        min_length=5,\n",
    "        max_length=20,\n",
    "    )\n",
    "    email: EmailStr = Field(description=\"Platform user e-mail.\", frozen=True)\n",
    "    id: int = Field(lt=1000)\n",
    "    age: int = Field(ge=12, le=99)\n",
    "    active: bool = True\n",
    "    website: Optional[AnyUrl] = None\n",
    "    join_date: date\n",
    "    last_login: Optional[datetime] = None\n",
    "    user_category: Literal[\"free\", \"premium\"] = \"free\"\n",
    "    # password: SecretStr = Field(exclude=True)\n",
    "\n",
    "    @computed_field\n",
    "    @property\n",
    "    def legal_age(self) -> bool:\n",
    "        if self.age >= 18:\n",
    "            return True\n",
    "        else:\n",
    "            return False\n",
    "\n",
    "    @field_validator(\"id\")\n",
    "    @classmethod\n",
    "    def validate_id(cls, value):\n",
    "        if value <= 0:\n",
    "            raise ValueError(f\"User ID must be > 0 ! Actual value: {value}\")\n",
    "        return value\n",
    "\n",
    "    @field_serializer(\"username\", when_used=\"json\")\n",
    "    @classmethod\n",
    "    def serialize_username(cls, username):\n",
    "        return username.upper()"
   ]
  },
  {
   "cell_type": "code",
   "execution_count": 3,
   "id": "dc76d96d",
   "metadata": {},
   "outputs": [],
   "source": [
    "user_data = {\n",
    "    \"username\": \"johnsmith\",\n",
    "    \"email\": \"john@mail.com\",\n",
    "    \"id\": 123,\n",
    "    \"age\": 30,\n",
    "    \"active\": False,\n",
    "    \"website\": \"https://mywebsite.com\",\n",
    "    \"join_date\": date(2025, 7, 26),\n",
    "    \"last_login\": datetime(2025, 7, 26, 10, 0),\n",
    "    \"user_category\": \"free\",\n",
    "    # \"password\": \"pass123\"\n",
    "}"
   ]
  },
  {
   "cell_type": "code",
   "execution_count": 4,
   "id": "8d191066",
   "metadata": {},
   "outputs": [],
   "source": [
    "user = UserProfile(**user_data)"
   ]
  },
  {
   "cell_type": "code",
   "execution_count": 5,
   "id": "014f6dfa",
   "metadata": {},
   "outputs": [
    {
     "data": {
      "text/plain": [
       "UserProfile(username='johnsmith', email='john@mail.com', id=123, age=30, active=False, website=AnyUrl('https://mywebsite.com/'), join_date=datetime.date(2025, 7, 26), last_login=datetime.datetime(2025, 7, 26, 10, 0), user_category='free', legal_age=True)"
      ]
     },
     "execution_count": 5,
     "metadata": {},
     "output_type": "execute_result"
    }
   ],
   "source": [
    "UserProfile.model_validate(user_data, strict=True)"
   ]
  },
  {
   "cell_type": "code",
   "execution_count": 6,
   "id": "4689c66f",
   "metadata": {},
   "outputs": [
    {
     "name": "stdout",
     "output_type": "stream",
     "text": [
      "username='johnsmith' email='john@mail.com' id=123 age=30 active=False website=AnyUrl('https://mywebsite.com/') join_date=datetime.date(2025, 7, 26) last_login=datetime.datetime(2025, 7, 26, 10, 0) user_category='free' legal_age=True\n",
      "-----\n",
      "johnsmith\n",
      "john@mail.com\n",
      "123\n",
      "30\n",
      "False\n",
      "https://mywebsite.com/\n",
      "2025-07-26\n",
      "2025-07-26 10:00:00\n",
      "free\n"
     ]
    }
   ],
   "source": [
    "print(user)\n",
    "print(\"-----\")\n",
    "print(user.username)\n",
    "print(user.email)\n",
    "print(user.id)\n",
    "print(user.age)\n",
    "print(user.active)\n",
    "print(user.website)\n",
    "print(user.join_date)\n",
    "print(user.last_login)\n",
    "print(user.user_category)\n",
    "# print(user.password)"
   ]
  },
  {
   "cell_type": "code",
   "execution_count": 7,
   "id": "6013826a",
   "metadata": {},
   "outputs": [],
   "source": [
    "# convert pydantic model to JSON\n",
    "user_json_str = user.model_dump_json()\n",
    "\n",
    "# convert pydantic model to python dictionary object\n",
    "user_json_dict = user.model_dump()"
   ]
  },
  {
   "cell_type": "code",
   "execution_count": 8,
   "id": "95beb2a4",
   "metadata": {},
   "outputs": [
    {
     "name": "stdout",
     "output_type": "stream",
     "text": [
      "JSON String:\n",
      "{\"username\":\"JOHNSMITH\",\"email\":\"john@mail.com\",\"id\":123,\"age\":30,\"active\":false,\"website\":\"https://mywebsite.com/\",\"join_date\":\"2025-07-26\",\"last_login\":\"2025-07-26T10:00:00\",\"user_category\":\"free\",\"legal_age\":true}\n",
      "\n",
      "JSON Dictionary:\n",
      "{'username': 'johnsmith', 'email': 'john@mail.com', 'id': 123, 'age': 30, 'active': False, 'website': AnyUrl('https://mywebsite.com/'), 'join_date': datetime.date(2025, 7, 26), 'last_login': datetime.datetime(2025, 7, 26, 10, 0), 'user_category': 'free', 'legal_age': True}\n"
     ]
    }
   ],
   "source": [
    "print(f\"JSON String:\\n{user_json_str}\")\n",
    "print(f\"\\nJSON Dictionary:\\n{user_json_dict}\")"
   ]
  },
  {
   "cell_type": "code",
   "execution_count": 9,
   "id": "e678ea47",
   "metadata": {},
   "outputs": [
    {
     "data": {
      "text/plain": [
       "UserProfile(username='JOHNSMITH', email='john@mail.com', id=123, age=30, active=False, website=AnyUrl('https://mywebsite.com/'), join_date=datetime.date(2025, 7, 26), last_login=datetime.datetime(2025, 7, 26, 10, 0), user_category='free', legal_age=True)"
      ]
     },
     "execution_count": 9,
     "metadata": {},
     "output_type": "execute_result"
    }
   ],
   "source": [
    "# convert JSON string object to pydantic model\n",
    "new_user = UserProfile.model_validate_json(user_json_str)\n",
    "new_user"
   ]
  },
  {
   "cell_type": "code",
   "execution_count": 10,
   "id": "42e2c593",
   "metadata": {},
   "outputs": [
    {
     "data": {
      "text/plain": [
       "UserProfile(username='johnsmith', email='john@mail.com', id=123, age=30, active=False, website=AnyUrl('https://mywebsite.com/'), join_date=datetime.date(2025, 7, 26), last_login=datetime.datetime(2025, 7, 26, 10, 0), user_category='free', legal_age=True)"
      ]
     },
     "execution_count": 10,
     "metadata": {},
     "output_type": "execute_result"
    }
   ],
   "source": [
    "# convert python dictionary object to pydantic model\n",
    "new_user = UserProfile.model_validate(user_json_dict)\n",
    "new_user"
   ]
  },
  {
   "cell_type": "code",
   "execution_count": 11,
   "id": "6e1fde04",
   "metadata": {},
   "outputs": [
    {
     "name": "stdout",
     "output_type": "stream",
     "text": [
      "{\n",
      "  \"properties\": {\n",
      "    \"username\": {\n",
      "      \"description\": \"Platform user name.\",\n",
      "      \"examples\": [\n",
      "        \"lucas\",\n",
      "        \"matthew\"\n",
      "      ],\n",
      "      \"maxLength\": 20,\n",
      "      \"minLength\": 5,\n",
      "      \"title\": \"Username\",\n",
      "      \"type\": \"string\"\n",
      "    },\n",
      "    \"email\": {\n",
      "      \"description\": \"Platform user e-mail.\",\n",
      "      \"format\": \"email\",\n",
      "      \"title\": \"Email\",\n",
      "      \"type\": \"string\"\n",
      "    },\n",
      "    \"id\": {\n",
      "      \"exclusiveMaximum\": 1000,\n",
      "      \"title\": \"Id\",\n",
      "      \"type\": \"integer\"\n",
      "    },\n",
      "    \"age\": {\n",
      "      \"maximum\": 99,\n",
      "      \"minimum\": 12,\n",
      "      \"title\": \"Age\",\n",
      "      \"type\": \"integer\"\n",
      "    },\n",
      "    \"active\": {\n",
      "      \"default\": true,\n",
      "      \"title\": \"Active\",\n",
      "      \"type\": \"boolean\"\n",
      "    },\n",
      "    \"website\": {\n",
      "      \"anyOf\": [\n",
      "        {\n",
      "          \"format\": \"uri\",\n",
      "          \"minLength\": 1,\n",
      "          \"type\": \"string\"\n",
      "        },\n",
      "        {\n",
      "          \"type\": \"null\"\n",
      "        }\n",
      "      ],\n",
      "      \"default\": null,\n",
      "      \"title\": \"Website\"\n",
      "    },\n",
      "    \"join_date\": {\n",
      "      \"format\": \"date\",\n",
      "      \"title\": \"Join Date\",\n",
      "      \"type\": \"string\"\n",
      "    },\n",
      "    \"last_login\": {\n",
      "      \"anyOf\": [\n",
      "        {\n",
      "          \"format\": \"date-time\",\n",
      "          \"type\": \"string\"\n",
      "        },\n",
      "        {\n",
      "          \"type\": \"null\"\n",
      "        }\n",
      "      ],\n",
      "      \"default\": null,\n",
      "      \"title\": \"Last Login\"\n",
      "    },\n",
      "    \"user_category\": {\n",
      "      \"default\": \"free\",\n",
      "      \"enum\": [\n",
      "        \"free\",\n",
      "        \"premium\"\n",
      "      ],\n",
      "      \"title\": \"User Category\",\n",
      "      \"type\": \"string\"\n",
      "    }\n",
      "  },\n",
      "  \"required\": [\n",
      "    \"username\",\n",
      "    \"email\",\n",
      "    \"id\",\n",
      "    \"age\",\n",
      "    \"join_date\"\n",
      "  ],\n",
      "  \"title\": \"UserProfile\",\n",
      "  \"type\": \"object\"\n",
      "}\n"
     ]
    }
   ],
   "source": [
    "# generate JSON schema as a dictionary\n",
    "schema_dict = new_user.model_json_schema()\n",
    "\n",
    "# optionally, serialize to a JSON string\n",
    "schema_json = json.dumps(schema_dict, indent=2)\n",
    "\n",
    "print(schema_json)"
   ]
  },
  {
   "cell_type": "markdown",
   "id": "7afec71b",
   "metadata": {},
   "source": [
    "## Pydantic Settings Management"
   ]
  },
  {
   "cell_type": "code",
   "execution_count": 12,
   "id": "c7178a88",
   "metadata": {},
   "outputs": [],
   "source": [
    "os.environ[\"AWS_ACCESS_KEY_ID\"] = (\n",
    "    \"my-access-key-id-value (readed from ENVIRONMENT variable)\"\n",
    ")\n",
    "os.environ[\"AWS_SECRET_ACCESS_KEY\"] = (\n",
    "    \"my-secret-access-key-value (readed from ENVIRONMENT variable)\"\n",
    ")\n",
    "os.environ[\"AWS_SESSION_TOKEN\"] = (\n",
    "    \"my-session-token-value (readed from ENVIRONMENT variable)\"\n",
    ")\n",
    "# os.environ[\"AWS_DEFAULT_REGION\"] = \"us-east-1 (readed from ENVIRONMENT variable)\""
   ]
  },
  {
   "cell_type": "code",
   "execution_count": 13,
   "id": "13829183",
   "metadata": {},
   "outputs": [],
   "source": [
    "class ConfigSetup(BaseSettings):\n",
    "    model_config = SettingsConfigDict(\n",
    "        env_file=\".env\", env_file_encoding=\"utf-8\", extra=\"ignore\"\n",
    "    )\n",
    "\n",
    "    var_1: str = Field(\n",
    "        default=\"default_value\", validation_alias=\"aws_access_key_id\"\n",
    "    )\n",
    "    var_2: str = Field(default=\"default_value\", alias=\"aws_session_token\")\n",
    "    var_3: str = Field(default=\"default_value\")\n",
    "    var_4: str = Field(default=\"default_value\", alias=\"aws_default_region\")"
   ]
  },
  {
   "cell_type": "code",
   "execution_count": 14,
   "id": "cca599b6",
   "metadata": {},
   "outputs": [
    {
     "name": "stdout",
     "output_type": "stream",
     "text": [
      "{'var_1': 'my-access-key-id-value (readed from ENVIRONMENT variable)', 'var_2': 'my-session-token-value (readed from ENVIRONMENT variable)', 'var_3': 'default_value', 'var_4': 'us-east-1 (readed from .env file)'}\n"
     ]
    }
   ],
   "source": [
    "my_config = ConfigSetup()\n",
    "print(my_config.model_dump())"
   ]
  }
 ],
 "metadata": {
  "kernelspec": {
   "display_name": "ml-lab-kernel",
   "language": "python",
   "name": "ml-lab-kernel"
  },
  "language_info": {
   "codemirror_mode": {
    "name": "ipython",
    "version": 3
   },
   "file_extension": ".py",
   "mimetype": "text/x-python",
   "name": "python",
   "nbconvert_exporter": "python",
   "pygments_lexer": "ipython3",
   "version": "3.13.5"
  }
 },
 "nbformat": 4,
 "nbformat_minor": 5
}
