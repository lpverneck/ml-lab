{
 "cells": [
  {
   "cell_type": "markdown",
   "id": "74532c91-d351-48ec-a213-8f17b63ddff5",
   "metadata": {},
   "source": [
    "## Building Blocks of DSPy\n",
    "\n",
    "- **dspy.Signature**: define the input/output contract of DSPy module.\n",
    "- **dspy.Module**: define the logic of interacting with LLMs.\n",
    "\n",
    "## Advantages\n",
    "\n",
    "- LM-agnostic programming\n",
    "- Seamless productization\n",
    "- Automatic program optimization"
   ]
  },
  {
   "cell_type": "code",
   "execution_count": 1,
   "id": "aa1657bb-5b38-452a-82c0-479f3fe77a8f",
   "metadata": {},
   "outputs": [],
   "source": [
    "import dspy\n",
    "from typing import Literal\n",
    "from dotenv import load_dotenv, find_dotenv\n",
    "\n",
    "\n",
    "_ = load_dotenv(find_dotenv())\n",
    "dspy.settings.configure(lm=dspy.LM(\"openai/gpt-4o-mini\"))"
   ]
  },
  {
   "cell_type": "markdown",
   "id": "4349fe8f-b531-4f77-a3d2-cc1c3de068cc",
   "metadata": {},
   "source": [
    "## Class-based Signature Example"
   ]
  },
  {
   "cell_type": "code",
   "execution_count": 2,
   "id": "0bb30c9f-5691-4af6-a80d-e5eb84071c3b",
   "metadata": {},
   "outputs": [],
   "source": [
    "class SlangEquivalence(dspy.Signature):\n",
    "    \"\"\"Find a Portuguese slang equivalance in English and classify it's formality level.\"\"\"\n",
    "\n",
    "    # inputs\n",
    "    portuguese_slang: str = dspy.InputField()\n",
    "    # outputs\n",
    "    english_slang: str = dspy.OutputField()\n",
    "    alternative_slangs: list[str] = dspy.OutputField(\n",
    "        desc=\"More equivalent alternative slangs.\"\n",
    "    )\n",
    "    formality_level: Literal[\"L1\", \"L2\", \"L3\", \"L4\", \"L5\"] = dspy.OutputField(\n",
    "        desc=\"Slang formality level. Lesser the number more informal.\"\n",
    "    )"
   ]
  },
  {
   "cell_type": "markdown",
   "id": "d0ef6efc-e506-4951-8fb7-cf4d40b29139",
   "metadata": {},
   "source": [
    "## String-based Signature Example"
   ]
  },
  {
   "cell_type": "code",
   "execution_count": 3,
   "id": "f8602339-07f1-426a-aa66-412eff5c558a",
   "metadata": {},
   "outputs": [],
   "source": [
    "slang_equivalance = dspy.make_signature(\n",
    "    \"portuguese_slang -> english_slang: str, alternative_slangs: list[str]\"\n",
    ")"
   ]
  },
  {
   "cell_type": "markdown",
   "id": "cd220fd9-776a-4cf8-9aac-ecdc20b0b2b8",
   "metadata": {},
   "source": [
    "## LM Interaction via Module Examples"
   ]
  },
  {
   "cell_type": "code",
   "execution_count": 4,
   "id": "c9197e36-3e47-44cf-b875-d75024b02aac",
   "metadata": {},
   "outputs": [],
   "source": [
    "predict = dspy.Predict(slang_equivalance)\n",
    "output = predict(portuguese_slang=\"Boiar\")"
   ]
  },
  {
   "cell_type": "code",
   "execution_count": 5,
   "id": "d3cf4905-c27a-4574-96d5-bd8030c7bafa",
   "metadata": {},
   "outputs": [
    {
     "data": {
      "text/plain": [
       "Prediction(\n",
       "    english_slang='To be clueless or to not understand something.',\n",
       "    alternative_slangs=['to zone out', 'to space out', 'to be lost', 'to be in the dark']\n",
       ")"
      ]
     },
     "execution_count": 5,
     "metadata": {},
     "output_type": "execute_result"
    }
   ],
   "source": [
    "output"
   ]
  },
  {
   "cell_type": "code",
   "execution_count": 6,
   "id": "99d0fe47-f747-4488-81d6-7aee0c90127d",
   "metadata": {},
   "outputs": [
    {
     "name": "stdout",
     "output_type": "stream",
     "text": [
      "English equivalent slang: To be clueless or to not understand something.\n",
      "Alternative slangs: ['to zone out', 'to space out', 'to be lost', 'to be in the dark']\n"
     ]
    }
   ],
   "source": [
    "print(\n",
    "    f\"English equivalent slang: {output['english_slang']}\\nAlternative slangs: {output.alternative_slangs}\"\n",
    ")"
   ]
  },
  {
   "cell_type": "code",
   "execution_count": 7,
   "id": "b3862b56-8040-4d97-a992-fe421d4c0f90",
   "metadata": {},
   "outputs": [],
   "source": [
    "cot = dspy.ChainOfThought(SlangEquivalence)\n",
    "output = cot(portuguese_slang=\"quebrar o galho\")"
   ]
  },
  {
   "cell_type": "code",
   "execution_count": 8,
   "id": "b5f61253-4975-4f69-aeed-b54e1bb329b0",
   "metadata": {},
   "outputs": [
    {
     "data": {
      "text/plain": [
       "Prediction(\n",
       "    reasoning='\"Quebrar o galho\" is a Portuguese slang that means to help someone out or to find a workaround for a problem. In English, a similar expression would be \"to lend a hand\" or \"to help out.\" This phrase conveys a sense of informal assistance or support.',\n",
       "    english_slang='lend a hand',\n",
       "    alternative_slangs=['help out', 'give a hand', 'pitch in'],\n",
       "    formality_level='L2'\n",
       ")"
      ]
     },
     "execution_count": 8,
     "metadata": {},
     "output_type": "execute_result"
    }
   ],
   "source": [
    "output"
   ]
  },
  {
   "cell_type": "code",
   "execution_count": 9,
   "id": "219fe937-db55-4e4a-aaea-f4ec2145a823",
   "metadata": {},
   "outputs": [
    {
     "name": "stdout",
     "output_type": "stream",
     "text": [
      "\n",
      "\n",
      "\n",
      "\n",
      "\u001b[34m[2025-07-23T19:17:00.097117]\u001b[0m\n",
      "\n",
      "\u001b[31mSystem message:\u001b[0m\n",
      "\n",
      "Your input fields are:\n",
      "1. `portuguese_slang` (str):\n",
      "Your output fields are:\n",
      "1. `reasoning` (str): \n",
      "2. `english_slang` (str): \n",
      "3. `alternative_slangs` (list[str]): More equivalent alternative slangs.\n",
      "4. `formality_level` (Literal['L1', 'L2', 'L3', 'L4', 'L5']): Slang formality level. Lesser the number more informal.\n",
      "All interactions will be structured in the following way, with the appropriate values filled in.\n",
      "\n",
      "[[ ## portuguese_slang ## ]]\n",
      "{portuguese_slang}\n",
      "\n",
      "[[ ## reasoning ## ]]\n",
      "{reasoning}\n",
      "\n",
      "[[ ## english_slang ## ]]\n",
      "{english_slang}\n",
      "\n",
      "[[ ## alternative_slangs ## ]]\n",
      "{alternative_slangs}        # note: the value you produce must adhere to the JSON schema: {\"type\": \"array\", \"items\": {\"type\": \"string\"}}\n",
      "\n",
      "[[ ## formality_level ## ]]\n",
      "{formality_level}        # note: the value you produce must exactly match (no extra characters) one of: L1; L2; L3; L4; L5\n",
      "\n",
      "[[ ## completed ## ]]\n",
      "In adhering to this structure, your objective is: \n",
      "        Find a Portuguese slang equivalance in English and classify it's formality level.\n",
      "\n",
      "\n",
      "\u001b[31mUser message:\u001b[0m\n",
      "\n",
      "[[ ## portuguese_slang ## ]]\n",
      "quebrar o galho\n",
      "\n",
      "Respond with the corresponding output fields, starting with the field `[[ ## reasoning ## ]]`, then `[[ ## english_slang ## ]]`, then `[[ ## alternative_slangs ## ]]` (must be formatted as a valid Python list[str]), then `[[ ## formality_level ## ]]` (must be formatted as a valid Python Literal['L1', 'L2', 'L3', 'L4', 'L5']), and then ending with the marker for `[[ ## completed ## ]]`.\n",
      "\n",
      "\n",
      "\u001b[31mResponse:\u001b[0m\n",
      "\n",
      "\u001b[32m[[ ## reasoning ## ]]\n",
      "\"Quebrar o galho\" is a Portuguese slang that means to help someone out or to find a workaround for a problem. In English, a similar expression would be \"to lend a hand\" or \"to help out.\" This phrase conveys a sense of informal assistance or support.\n",
      "\n",
      "[[ ## english_slang ## ]]\n",
      "lend a hand\n",
      "\n",
      "[[ ## alternative_slangs ## ]]\n",
      "[\"help out\", \"give a hand\", \"pitch in\"]\n",
      "\n",
      "[[ ## formality_level ## ]]\n",
      "L2\n",
      "\n",
      "[[ ## completed ## ]]\u001b[0m\n",
      "\n",
      "\n",
      "\n",
      "\n",
      "\n"
     ]
    }
   ],
   "source": [
    "dspy.inspect_history(n=1)"
   ]
  },
  {
   "cell_type": "markdown",
   "id": "dd201cef-c62a-4733-b80e-8bc0cb1ff5eb",
   "metadata": {},
   "source": [
    "## Changing the Adapter"
   ]
  },
  {
   "cell_type": "code",
   "execution_count": 12,
   "id": "06863b2d-4043-49ed-9b32-6cbbd204c35a",
   "metadata": {},
   "outputs": [],
   "source": [
    "dspy.settings.configure(lm=dspy.LM(\"openai/gpt-4o\"))\n",
    "dspy.configure(adapter=dspy.JSONAdapter())"
   ]
  },
  {
   "cell_type": "code",
   "execution_count": 13,
   "id": "5aafe0c3-ac7c-422d-8dfc-07b04496d797",
   "metadata": {},
   "outputs": [
    {
     "name": "stderr",
     "output_type": "stream",
     "text": [
      "2025/07/23 19:19:48 WARNING dspy.adapters.json_adapter: Failed to use structured output format, falling back to JSON mode.\n"
     ]
    }
   ],
   "source": [
    "cot = dspy.ChainOfThought(SlangEquivalence)\n",
    "output = cot(portuguese_slang=\"quebrar o galho\")"
   ]
  },
  {
   "cell_type": "code",
   "execution_count": 15,
   "id": "b7a56d0d-cb31-4a7c-9de5-39f7e9cfca4a",
   "metadata": {},
   "outputs": [
    {
     "data": {
      "text/plain": [
       "Prediction(\n",
       "    reasoning='\"Quebrar o galho\" is a Portuguese slang expression that means to help someone out or to do a favor, often in a situation where a quick or temporary solution is needed. The English equivalent would be \"to help out\" or \"to lend a hand.\"',\n",
       "    english_slang='help out',\n",
       "    alternative_slangs=['lend a hand', 'do a favor', 'give a hand'],\n",
       "    formality_level='L3'\n",
       ")"
      ]
     },
     "execution_count": 15,
     "metadata": {},
     "output_type": "execute_result"
    }
   ],
   "source": [
    "output"
   ]
  },
  {
   "cell_type": "code",
   "execution_count": 14,
   "id": "b2176914-8358-4062-a49b-8459d50f6887",
   "metadata": {},
   "outputs": [
    {
     "name": "stdout",
     "output_type": "stream",
     "text": [
      "\n",
      "\n",
      "\n",
      "\n",
      "\u001b[34m[2025-07-23T19:19:50.956426]\u001b[0m\n",
      "\n",
      "\u001b[31mSystem message:\u001b[0m\n",
      "\n",
      "Your input fields are:\n",
      "1. `portuguese_slang` (str):\n",
      "Your output fields are:\n",
      "1. `reasoning` (str): \n",
      "2. `english_slang` (str): \n",
      "3. `alternative_slangs` (list[str]): More equivalent alternative slangs.\n",
      "4. `formality_level` (Literal['L1', 'L2', 'L3', 'L4', 'L5']): Slang formality level. Lesser the number more informal.\n",
      "All interactions will be structured in the following way, with the appropriate values filled in.\n",
      "\n",
      "Inputs will have the following structure:\n",
      "\n",
      "[[ ## portuguese_slang ## ]]\n",
      "{portuguese_slang}\n",
      "\n",
      "Outputs will be a JSON object with the following fields.\n",
      "\n",
      "{\n",
      "  \"reasoning\": \"{reasoning}\",\n",
      "  \"english_slang\": \"{english_slang}\",\n",
      "  \"alternative_slangs\": \"{alternative_slangs}        # note: the value you produce must adhere to the JSON schema: {\\\"type\\\": \\\"array\\\", \\\"items\\\": {\\\"type\\\": \\\"string\\\"}}\",\n",
      "  \"formality_level\": \"{formality_level}        # note: the value you produce must exactly match (no extra characters) one of: L1; L2; L3; L4; L5\"\n",
      "}\n",
      "In adhering to this structure, your objective is: \n",
      "        Find a Portuguese slang equivalance in English and classify it's formality level.\n",
      "\n",
      "\n",
      "\u001b[31mUser message:\u001b[0m\n",
      "\n",
      "[[ ## portuguese_slang ## ]]\n",
      "quebrar o galho\n",
      "\n",
      "Respond with a JSON object in the following order of fields: `reasoning`, then `english_slang`, then `alternative_slangs` (must be formatted as a valid Python list[str]), then `formality_level` (must be formatted as a valid Python Literal['L1', 'L2', 'L3', 'L4', 'L5']).\n",
      "\n",
      "\n",
      "\u001b[31mResponse:\u001b[0m\n",
      "\n",
      "\u001b[32m{\n",
      "  \"reasoning\": \"\\\"Quebrar o galho\\\" is a Portuguese slang expression that means to help someone out or to do a favor, often in a situation where a quick or temporary solution is needed. The English equivalent would be \\\"to help out\\\" or \\\"to lend a hand.\\\"\",\n",
      "  \"english_slang\": \"help out\",\n",
      "  \"alternative_slangs\": [\"lend a hand\", \"do a favor\", \"give a hand\"],\n",
      "  \"formality_level\": \"L3\"\n",
      "}\u001b[0m\n",
      "\n",
      "\n",
      "\n",
      "\n",
      "\n"
     ]
    }
   ],
   "source": [
    "dspy.inspect_history(n=1)"
   ]
  },
  {
   "cell_type": "markdown",
   "id": "8d3ff470-d224-4e73-a4fb-b129c00894e0",
   "metadata": {},
   "source": [
    "## Creating a Custom Module"
   ]
  },
  {
   "cell_type": "code",
   "execution_count": null,
   "id": "5f789dd8-c42a-4e11-8de6-064e307cc5bf",
   "metadata": {},
   "outputs": [],
   "source": []
  }
 ],
 "metadata": {
  "kernelspec": {
   "display_name": "ml-lab-kernel",
   "language": "python",
   "name": "ml-lab-kernel"
  },
  "language_info": {
   "codemirror_mode": {
    "name": "ipython",
    "version": 3
   },
   "file_extension": ".py",
   "mimetype": "text/x-python",
   "name": "python",
   "nbconvert_exporter": "python",
   "pygments_lexer": "ipython3",
   "version": "3.13.5"
  }
 },
 "nbformat": 4,
 "nbformat_minor": 5
}
