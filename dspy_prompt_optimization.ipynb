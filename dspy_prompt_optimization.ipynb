{
 "cells": [
  {
   "cell_type": "markdown",
   "id": "74532c91-d351-48ec-a213-8f17b63ddff5",
   "metadata": {},
   "source": [
    "## Building Blocks of DSPy\n",
    "\n",
    "- **dspy.Signature**: define the input/output contract of DSPy module.\n",
    "- **dspy.Module**: define the logic of interacting with LLMs.\n",
    "\n",
    "## Advantages\n",
    "\n",
    "- LM-agnostic programming\n",
    "- Seamless productization\n",
    "- Automatic program optimization"
   ]
  },
  {
   "cell_type": "code",
   "execution_count": 3,
   "id": "aa1657bb-5b38-452a-82c0-479f3fe77a8f",
   "metadata": {},
   "outputs": [
    {
     "ename": "ModuleNotFoundError",
     "evalue": "No module named 'dspy'",
     "output_type": "error",
     "traceback": [
      "\u001b[31m---------------------------------------------------------------------------\u001b[39m",
      "\u001b[31mModuleNotFoundError\u001b[39m                       Traceback (most recent call last)",
      "\u001b[36mCell\u001b[39m\u001b[36m \u001b[39m\u001b[32mIn[3]\u001b[39m\u001b[32m, line 1\u001b[39m\n\u001b[32m----> \u001b[39m\u001b[32m1\u001b[39m \u001b[38;5;28;01mimport\u001b[39;00m\u001b[38;5;250m \u001b[39m\u001b[34;01mdspy\u001b[39;00m\n",
      "\u001b[31mModuleNotFoundError\u001b[39m: No module named 'dspy'"
     ]
    }
   ],
   "source": [
    "import dspy"
   ]
  },
  {
   "cell_type": "code",
   "execution_count": null,
   "id": "49a3282a-91d4-4b03-ae99-21bd71dd0f10",
   "metadata": {},
   "outputs": [],
   "source": []
  }
 ],
 "metadata": {
  "kernelspec": {
   "display_name": "Python 3 (ipykernel)",
   "language": "python",
   "name": "python3"
  },
  "language_info": {
   "codemirror_mode": {
    "name": "ipython",
    "version": 3
   },
   "file_extension": ".py",
   "mimetype": "text/x-python",
   "name": "python",
   "nbconvert_exporter": "python",
   "pygments_lexer": "ipython3",
   "version": "3.13.5"
  }
 },
 "nbformat": 4,
 "nbformat_minor": 5
}
