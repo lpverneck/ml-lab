{
 "cells": [
  {
   "cell_type": "markdown",
   "id": "b666d784-44c6-4d84-b3d6-f47710856946",
   "metadata": {},
   "source": [
    "## Term Frequency - Inverse Document Frequency (TF-IDF)"
   ]
  },
  {
   "cell_type": "markdown",
   "id": "c98b7c2c-2403-4d65-b86d-2d8c72fd0858",
   "metadata": {},
   "source": [
    "### 1. From Scratch Implementation"
   ]
  },
  {
   "cell_type": "code",
   "execution_count": 1,
   "id": "560981f5-88bc-4bf9-bf8e-a89c3ab09845",
   "metadata": {},
   "outputs": [],
   "source": [
    "import pandas as pd\n",
    "import numpy as np\n",
    "from sklearn.feature_extraction.text import TfidfVectorizer"
   ]
  },
  {
   "cell_type": "code",
   "execution_count": 2,
   "id": "0dd7c61e-34e3-4445-abfe-6456f533c7e7",
   "metadata": {},
   "outputs": [],
   "source": [
    "corpus = [\n",
    "    \"the cat sat on the mat\",\n",
    "    \"the dog chased the cat\",\n",
    "    \"the cat and dog played together\",\n",
    "    \"the cat is sleeping\",\n",
    "    \"the dog barked loudly\",\n",
    "]"
   ]
  },
  {
   "cell_type": "code",
   "execution_count": 3,
   "id": "b3add23f-d8ba-4462-97bd-8118b26690ca",
   "metadata": {},
   "outputs": [
    {
     "data": {
      "text/plain": [
       "{'and',\n",
       " 'barked',\n",
       " 'cat',\n",
       " 'chased',\n",
       " 'dog',\n",
       " 'is',\n",
       " 'loudly',\n",
       " 'mat',\n",
       " 'on',\n",
       " 'played',\n",
       " 'sat',\n",
       " 'sleeping',\n",
       " 'the',\n",
       " 'together'}"
      ]
     },
     "execution_count": 3,
     "metadata": {},
     "output_type": "execute_result"
    }
   ],
   "source": [
    "uni_terms = set(\" \".join(corpus).strip().lower().split())\n",
    "uni_terms"
   ]
  },
  {
   "cell_type": "code",
   "execution_count": 4,
   "id": "476cf006-63c9-4573-a2f5-1736a1255394",
   "metadata": {},
   "outputs": [],
   "source": [
    "tf_dict = {term: [] for term in uni_terms}\n",
    "idf_dict = {term: [] for term in uni_terms}\n",
    "n = len(corpus)\n",
    "\n",
    "# calculate TF\n",
    "for doc in corpus:\n",
    "    for term in uni_terms:\n",
    "        doc_terms = doc.strip().split()\n",
    "        tf_value = doc_terms.count(term) / len(doc_terms)\n",
    "        tf_dict[term].append(tf_value)\n",
    "\n",
    "# calculate IDF\n",
    "for term in uni_terms:\n",
    "    docs_with_term = sum(\n",
    "        [1 if d.strip().split().count(term) != 0 else 0 for d in corpus]\n",
    "    )\n",
    "    idf_value = np.log((n + 1) / (docs_with_term + 1)) + 1\n",
    "    idf_dict[term].append(idf_value)"
   ]
  },
  {
   "cell_type": "code",
   "execution_count": 5,
   "id": "95aaf135-87a3-477a-9ad2-d6d55b8d79da",
   "metadata": {},
   "outputs": [],
   "source": [
    "tf = pd.DataFrame(tf_dict)\n",
    "idf = pd.DataFrame(idf_dict)\n",
    "tfidf = tf * idf.values\n",
    "normalized_tfidf = tfidf.apply(lambda row: row / np.linalg.norm(row), axis=1)"
   ]
  },
  {
   "cell_type": "code",
   "execution_count": 6,
   "id": "dc27bf71-5279-48d9-9349-d5fa3860fbbf",
   "metadata": {},
   "outputs": [
    {
     "data": {
      "text/html": [
       "<div>\n",
       "<style scoped>\n",
       "    .dataframe tbody tr th:only-of-type {\n",
       "        vertical-align: middle;\n",
       "    }\n",
       "\n",
       "    .dataframe tbody tr th {\n",
       "        vertical-align: top;\n",
       "    }\n",
       "\n",
       "    .dataframe thead th {\n",
       "        text-align: right;\n",
       "    }\n",
       "</style>\n",
       "<table border=\"1\" class=\"dataframe\">\n",
       "  <thead>\n",
       "    <tr style=\"text-align: right;\">\n",
       "      <th></th>\n",
       "      <th>and</th>\n",
       "      <th>barked</th>\n",
       "      <th>cat</th>\n",
       "      <th>chased</th>\n",
       "      <th>dog</th>\n",
       "      <th>is</th>\n",
       "      <th>loudly</th>\n",
       "      <th>mat</th>\n",
       "      <th>on</th>\n",
       "      <th>played</th>\n",
       "      <th>sat</th>\n",
       "      <th>sleeping</th>\n",
       "      <th>the</th>\n",
       "      <th>together</th>\n",
       "    </tr>\n",
       "  </thead>\n",
       "  <tbody>\n",
       "    <tr>\n",
       "      <th>0</th>\n",
       "      <td>0.00000</td>\n",
       "      <td>0.000000</td>\n",
       "      <td>0.274068</td>\n",
       "      <td>0.000000</td>\n",
       "      <td>0.000000</td>\n",
       "      <td>0.000000</td>\n",
       "      <td>0.000000</td>\n",
       "      <td>0.486468</td>\n",
       "      <td>0.486468</td>\n",
       "      <td>0.00000</td>\n",
       "      <td>0.486468</td>\n",
       "      <td>0.000000</td>\n",
       "      <td>0.463609</td>\n",
       "      <td>0.00000</td>\n",
       "    </tr>\n",
       "    <tr>\n",
       "      <th>1</th>\n",
       "      <td>0.00000</td>\n",
       "      <td>0.000000</td>\n",
       "      <td>0.344517</td>\n",
       "      <td>0.611516</td>\n",
       "      <td>0.409539</td>\n",
       "      <td>0.000000</td>\n",
       "      <td>0.000000</td>\n",
       "      <td>0.000000</td>\n",
       "      <td>0.000000</td>\n",
       "      <td>0.00000</td>\n",
       "      <td>0.000000</td>\n",
       "      <td>0.000000</td>\n",
       "      <td>0.582781</td>\n",
       "      <td>0.00000</td>\n",
       "    </tr>\n",
       "    <tr>\n",
       "      <th>2</th>\n",
       "      <td>0.50044</td>\n",
       "      <td>0.000000</td>\n",
       "      <td>0.281939</td>\n",
       "      <td>0.000000</td>\n",
       "      <td>0.335150</td>\n",
       "      <td>0.000000</td>\n",
       "      <td>0.000000</td>\n",
       "      <td>0.000000</td>\n",
       "      <td>0.000000</td>\n",
       "      <td>0.50044</td>\n",
       "      <td>0.000000</td>\n",
       "      <td>0.000000</td>\n",
       "      <td>0.238462</td>\n",
       "      <td>0.50044</td>\n",
       "    </tr>\n",
       "    <tr>\n",
       "      <th>3</th>\n",
       "      <td>0.00000</td>\n",
       "      <td>0.000000</td>\n",
       "      <td>0.353188</td>\n",
       "      <td>0.000000</td>\n",
       "      <td>0.000000</td>\n",
       "      <td>0.626906</td>\n",
       "      <td>0.000000</td>\n",
       "      <td>0.000000</td>\n",
       "      <td>0.000000</td>\n",
       "      <td>0.00000</td>\n",
       "      <td>0.000000</td>\n",
       "      <td>0.626906</td>\n",
       "      <td>0.298724</td>\n",
       "      <td>0.00000</td>\n",
       "    </tr>\n",
       "    <tr>\n",
       "      <th>4</th>\n",
       "      <td>0.00000</td>\n",
       "      <td>0.611353</td>\n",
       "      <td>0.000000</td>\n",
       "      <td>0.000000</td>\n",
       "      <td>0.409430</td>\n",
       "      <td>0.000000</td>\n",
       "      <td>0.611353</td>\n",
       "      <td>0.000000</td>\n",
       "      <td>0.000000</td>\n",
       "      <td>0.00000</td>\n",
       "      <td>0.000000</td>\n",
       "      <td>0.000000</td>\n",
       "      <td>0.291313</td>\n",
       "      <td>0.00000</td>\n",
       "    </tr>\n",
       "  </tbody>\n",
       "</table>\n",
       "</div>"
      ],
      "text/plain": [
       "       and    barked       cat    chased       dog        is    loudly  \\\n",
       "0  0.00000  0.000000  0.274068  0.000000  0.000000  0.000000  0.000000   \n",
       "1  0.00000  0.000000  0.344517  0.611516  0.409539  0.000000  0.000000   \n",
       "2  0.50044  0.000000  0.281939  0.000000  0.335150  0.000000  0.000000   \n",
       "3  0.00000  0.000000  0.353188  0.000000  0.000000  0.626906  0.000000   \n",
       "4  0.00000  0.611353  0.000000  0.000000  0.409430  0.000000  0.611353   \n",
       "\n",
       "        mat        on   played       sat  sleeping       the  together  \n",
       "0  0.486468  0.486468  0.00000  0.486468  0.000000  0.463609   0.00000  \n",
       "1  0.000000  0.000000  0.00000  0.000000  0.000000  0.582781   0.00000  \n",
       "2  0.000000  0.000000  0.50044  0.000000  0.000000  0.238462   0.50044  \n",
       "3  0.000000  0.000000  0.00000  0.000000  0.626906  0.298724   0.00000  \n",
       "4  0.000000  0.000000  0.00000  0.000000  0.000000  0.291313   0.00000  "
      ]
     },
     "execution_count": 6,
     "metadata": {},
     "output_type": "execute_result"
    }
   ],
   "source": [
    "normalized_tfidf.sort_index(axis=1)"
   ]
  },
  {
   "cell_type": "markdown",
   "id": "37c69076-69ab-4f13-bb57-9ede2d7c2235",
   "metadata": {},
   "source": [
    "### 2. Sklearn Implementation"
   ]
  },
  {
   "cell_type": "code",
   "execution_count": 7,
   "id": "dd5b39f2-2d4c-44c0-94fe-3c7cf7aa5c38",
   "metadata": {},
   "outputs": [],
   "source": [
    "vectorizer = TfidfVectorizer()\n",
    "tfidf_matrix = vectorizer.fit_transform(corpus)"
   ]
  },
  {
   "cell_type": "code",
   "execution_count": 8,
   "id": "f9518403-eec8-4ee8-85dd-c00a6fdb1f28",
   "metadata": {},
   "outputs": [
    {
     "data": {
      "text/html": [
       "<div>\n",
       "<style scoped>\n",
       "    .dataframe tbody tr th:only-of-type {\n",
       "        vertical-align: middle;\n",
       "    }\n",
       "\n",
       "    .dataframe tbody tr th {\n",
       "        vertical-align: top;\n",
       "    }\n",
       "\n",
       "    .dataframe thead th {\n",
       "        text-align: right;\n",
       "    }\n",
       "</style>\n",
       "<table border=\"1\" class=\"dataframe\">\n",
       "  <thead>\n",
       "    <tr style=\"text-align: right;\">\n",
       "      <th></th>\n",
       "      <th>and</th>\n",
       "      <th>barked</th>\n",
       "      <th>cat</th>\n",
       "      <th>chased</th>\n",
       "      <th>dog</th>\n",
       "      <th>is</th>\n",
       "      <th>loudly</th>\n",
       "      <th>mat</th>\n",
       "      <th>on</th>\n",
       "      <th>played</th>\n",
       "      <th>sat</th>\n",
       "      <th>sleeping</th>\n",
       "      <th>the</th>\n",
       "      <th>together</th>\n",
       "    </tr>\n",
       "  </thead>\n",
       "  <tbody>\n",
       "    <tr>\n",
       "      <th>0</th>\n",
       "      <td>0.00000</td>\n",
       "      <td>0.000000</td>\n",
       "      <td>0.274068</td>\n",
       "      <td>0.000000</td>\n",
       "      <td>0.000000</td>\n",
       "      <td>0.000000</td>\n",
       "      <td>0.000000</td>\n",
       "      <td>0.486468</td>\n",
       "      <td>0.486468</td>\n",
       "      <td>0.00000</td>\n",
       "      <td>0.486468</td>\n",
       "      <td>0.000000</td>\n",
       "      <td>0.463609</td>\n",
       "      <td>0.00000</td>\n",
       "    </tr>\n",
       "    <tr>\n",
       "      <th>1</th>\n",
       "      <td>0.00000</td>\n",
       "      <td>0.000000</td>\n",
       "      <td>0.344517</td>\n",
       "      <td>0.611516</td>\n",
       "      <td>0.409539</td>\n",
       "      <td>0.000000</td>\n",
       "      <td>0.000000</td>\n",
       "      <td>0.000000</td>\n",
       "      <td>0.000000</td>\n",
       "      <td>0.00000</td>\n",
       "      <td>0.000000</td>\n",
       "      <td>0.000000</td>\n",
       "      <td>0.582781</td>\n",
       "      <td>0.00000</td>\n",
       "    </tr>\n",
       "    <tr>\n",
       "      <th>2</th>\n",
       "      <td>0.50044</td>\n",
       "      <td>0.000000</td>\n",
       "      <td>0.281939</td>\n",
       "      <td>0.000000</td>\n",
       "      <td>0.335150</td>\n",
       "      <td>0.000000</td>\n",
       "      <td>0.000000</td>\n",
       "      <td>0.000000</td>\n",
       "      <td>0.000000</td>\n",
       "      <td>0.50044</td>\n",
       "      <td>0.000000</td>\n",
       "      <td>0.000000</td>\n",
       "      <td>0.238462</td>\n",
       "      <td>0.50044</td>\n",
       "    </tr>\n",
       "    <tr>\n",
       "      <th>3</th>\n",
       "      <td>0.00000</td>\n",
       "      <td>0.000000</td>\n",
       "      <td>0.353188</td>\n",
       "      <td>0.000000</td>\n",
       "      <td>0.000000</td>\n",
       "      <td>0.626906</td>\n",
       "      <td>0.000000</td>\n",
       "      <td>0.000000</td>\n",
       "      <td>0.000000</td>\n",
       "      <td>0.00000</td>\n",
       "      <td>0.000000</td>\n",
       "      <td>0.626906</td>\n",
       "      <td>0.298724</td>\n",
       "      <td>0.00000</td>\n",
       "    </tr>\n",
       "    <tr>\n",
       "      <th>4</th>\n",
       "      <td>0.00000</td>\n",
       "      <td>0.611353</td>\n",
       "      <td>0.000000</td>\n",
       "      <td>0.000000</td>\n",
       "      <td>0.409430</td>\n",
       "      <td>0.000000</td>\n",
       "      <td>0.611353</td>\n",
       "      <td>0.000000</td>\n",
       "      <td>0.000000</td>\n",
       "      <td>0.00000</td>\n",
       "      <td>0.000000</td>\n",
       "      <td>0.000000</td>\n",
       "      <td>0.291313</td>\n",
       "      <td>0.00000</td>\n",
       "    </tr>\n",
       "  </tbody>\n",
       "</table>\n",
       "</div>"
      ],
      "text/plain": [
       "       and    barked       cat    chased       dog        is    loudly  \\\n",
       "0  0.00000  0.000000  0.274068  0.000000  0.000000  0.000000  0.000000   \n",
       "1  0.00000  0.000000  0.344517  0.611516  0.409539  0.000000  0.000000   \n",
       "2  0.50044  0.000000  0.281939  0.000000  0.335150  0.000000  0.000000   \n",
       "3  0.00000  0.000000  0.353188  0.000000  0.000000  0.626906  0.000000   \n",
       "4  0.00000  0.611353  0.000000  0.000000  0.409430  0.000000  0.611353   \n",
       "\n",
       "        mat        on   played       sat  sleeping       the  together  \n",
       "0  0.486468  0.486468  0.00000  0.486468  0.000000  0.463609   0.00000  \n",
       "1  0.000000  0.000000  0.00000  0.000000  0.000000  0.582781   0.00000  \n",
       "2  0.000000  0.000000  0.50044  0.000000  0.000000  0.238462   0.50044  \n",
       "3  0.000000  0.000000  0.00000  0.000000  0.626906  0.298724   0.00000  \n",
       "4  0.000000  0.000000  0.00000  0.000000  0.000000  0.291313   0.00000  "
      ]
     },
     "execution_count": 8,
     "metadata": {},
     "output_type": "execute_result"
    }
   ],
   "source": [
    "tfidf_df = pd.DataFrame(\n",
    "    data=tfidf_matrix.toarray(), columns=vectorizer.get_feature_names_out()\n",
    ")\n",
    "tfidf_df.sort_index(axis=1)"
   ]
  },
  {
   "cell_type": "markdown",
   "id": "55679b89-f0ca-400a-a24d-a893149555d6",
   "metadata": {},
   "source": [
    "### 3. Query Vector"
   ]
  },
  {
   "cell_type": "code",
   "execution_count": 9,
   "id": "ae1ebd41-bb02-48d2-9674-002e029a5e6b",
   "metadata": {},
   "outputs": [],
   "source": [
    "query = \"what is the cat doing ?\""
   ]
  },
  {
   "cell_type": "code",
   "execution_count": 14,
   "id": "52c2966f-f346-4f83-9358-7269a6b222fb",
   "metadata": {},
   "outputs": [],
   "source": [
    "aa = vectorizer.transform([query])"
   ]
  },
  {
   "cell_type": "code",
   "execution_count": 17,
   "id": "691ac426-f00a-4475-90ea-f5b786c1e0e7",
   "metadata": {},
   "outputs": [
    {
     "name": "stdout",
     "output_type": "stream",
     "text": [
      "(1, 14)\n"
     ]
    }
   ],
   "source": [
    "print(aa.toarray().shape)"
   ]
  },
  {
   "cell_type": "code",
   "execution_count": 18,
   "id": "3a47c523-5244-47c0-b3f2-7b0f56e95be9",
   "metadata": {},
   "outputs": [
    {
     "data": {
      "text/html": [
       "<div>\n",
       "<style scoped>\n",
       "    .dataframe tbody tr th:only-of-type {\n",
       "        vertical-align: middle;\n",
       "    }\n",
       "\n",
       "    .dataframe tbody tr th {\n",
       "        vertical-align: top;\n",
       "    }\n",
       "\n",
       "    .dataframe thead th {\n",
       "        text-align: right;\n",
       "    }\n",
       "</style>\n",
       "<table border=\"1\" class=\"dataframe\">\n",
       "  <thead>\n",
       "    <tr style=\"text-align: right;\">\n",
       "      <th></th>\n",
       "      <th>and</th>\n",
       "      <th>barked</th>\n",
       "      <th>cat</th>\n",
       "      <th>chased</th>\n",
       "      <th>dog</th>\n",
       "      <th>is</th>\n",
       "      <th>loudly</th>\n",
       "      <th>mat</th>\n",
       "      <th>on</th>\n",
       "      <th>played</th>\n",
       "      <th>sat</th>\n",
       "      <th>sleeping</th>\n",
       "      <th>the</th>\n",
       "      <th>together</th>\n",
       "    </tr>\n",
       "  </thead>\n",
       "  <tbody>\n",
       "    <tr>\n",
       "      <th>0</th>\n",
       "      <td>0.0</td>\n",
       "      <td>0.0</td>\n",
       "      <td>0.453331</td>\n",
       "      <td>0.0</td>\n",
       "      <td>0.0</td>\n",
       "      <td>0.804659</td>\n",
       "      <td>0.0</td>\n",
       "      <td>0.0</td>\n",
       "      <td>0.0</td>\n",
       "      <td>0.0</td>\n",
       "      <td>0.0</td>\n",
       "      <td>0.0</td>\n",
       "      <td>0.383424</td>\n",
       "      <td>0.0</td>\n",
       "    </tr>\n",
       "  </tbody>\n",
       "</table>\n",
       "</div>"
      ],
      "text/plain": [
       "   and  barked       cat  chased  dog        is  loudly  mat   on  played  \\\n",
       "0  0.0     0.0  0.453331     0.0  0.0  0.804659     0.0  0.0  0.0     0.0   \n",
       "\n",
       "   sat  sleeping       the  together  \n",
       "0  0.0       0.0  0.383424       0.0  "
      ]
     },
     "execution_count": 18,
     "metadata": {},
     "output_type": "execute_result"
    }
   ],
   "source": [
    "pd.DataFrame(data=aa.toarray(), columns=vectorizer.get_feature_names_out())"
   ]
  },
  {
   "cell_type": "code",
   "execution_count": null,
   "id": "fec01862-6d41-4144-a796-f90778cfe2da",
   "metadata": {},
   "outputs": [],
   "source": []
  }
 ],
 "metadata": {
  "kernelspec": {
   "display_name": "Python 3 (ipykernel)",
   "language": "python",
   "name": "python3"
  },
  "language_info": {
   "codemirror_mode": {
    "name": "ipython",
    "version": 3
   },
   "file_extension": ".py",
   "mimetype": "text/x-python",
   "name": "python",
   "nbconvert_exporter": "python",
   "pygments_lexer": "ipython3",
   "version": "3.13.1"
  }
 },
 "nbformat": 4,
 "nbformat_minor": 5
}
